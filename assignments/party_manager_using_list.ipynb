{
 "cells": [
  {
   "cell_type": "markdown",
   "metadata": {},
   "source": [
    "this notebook is a representation of a part management system using python lists."
   ]
  },
  {
   "cell_type": "code",
   "execution_count": 16,
   "metadata": {},
   "outputs": [],
   "source": [
    "#we first instantiate a list that we could use to manage our guests in the party\n",
    "party_list = []\n"
   ]
  },
  {
   "cell_type": "code",
   "execution_count": 17,
   "metadata": {},
   "outputs": [
    {
     "name": "stdout",
     "output_type": "stream",
     "text": [
      "['John', 'Jane', 'Doe']\n"
     ]
    }
   ],
   "source": [
    "#lets add some guests to our party list\n",
    "party_list.append(\"John\")\n",
    "party_list.append(\"Jane\")\n",
    "party_list.append(\"Doe\")\n",
    "#lets see our party list now\n",
    "print(party_list)"
   ]
  },
  {
   "cell_type": "code",
   "execution_count": 18,
   "metadata": {},
   "outputs": [
    {
     "name": "stdout",
     "output_type": "stream",
     "text": [
      "['Doe', 'John', 'Jane']\n"
     ]
    }
   ],
   "source": [
    "'''taken the fact that list allows duplication, we have to be able to \n",
    "remove any duplications by using sets.'''\n",
    "\n",
    "party_list = list(set(party_list))\n",
    "print(party_list)"
   ]
  },
  {
   "cell_type": "code",
   "execution_count": null,
   "metadata": {},
   "outputs": [
    {
     "name": "stdout",
     "output_type": "stream",
     "text": [
      "['Doe', 'John']\n"
     ]
    }
   ],
   "source": [
    "'''lets assume that one of our friends, Jane, is not partying due to personal cases,\n",
    " we should remove her name from the list'''\n",
    "\n",
    "if 'Jane' in party_list:\n",
    "    party_list.remove(\"Jane\")\n",
    "print(party_list)"
   ]
  },
  {
   "cell_type": "code",
   "execution_count": null,
   "metadata": {},
   "outputs": [
    {
     "name": "stdout",
     "output_type": "stream",
     "text": [
      "party list before extension:  ['John', 'Nahum', 'Linda', 'Doe', 'Lilly', 'Timothy', 'Stephen']\n",
      "new list of friends on another party list:  ['Nahum', 'Linda', 'Lilly', 'Timothy', 'Stephen']\n",
      "newly extended list:  ['John', 'Nahum', 'Linda', 'Doe', 'Lilly', 'Timothy', 'Stephen', 'Nahum', 'Linda', 'Lilly', 'Timothy', 'Stephen']\n",
      "newly extended list:  ['John', 'Linda', 'Nahum', 'Doe', 'Lilly', 'Timothy', 'Stephen']\n"
     ]
    }
   ],
   "source": [
    "'''lets say we have a list of friends from another party and we wanted to extend the\n",
    "party list by the new party list we have, we can do it using the following techniques'''\n",
    "\n",
    "another_party_list = [\"Nahum\", \"Linda\", \"Lilly\", \"Timothy\", \"Stephen\"]\n",
    "print(\"party list before extension: \", party_list)\n",
    "print(\"new list of friends on another party list: \", another_party_list)\n",
    "party_list.extend(another_party_list)\n",
    "\n",
    "#then we have our duplication remover\n",
    "party_list = list(set(party_list))\n",
    "print(\"newly extended list: \", party_list)\n",
    "\n",
    "\n"
   ]
  },
  {
   "cell_type": "code",
   "execution_count": 25,
   "metadata": {},
   "outputs": [
    {
     "name": "stdout",
     "output_type": "stream",
     "text": [
      "['Doe', 'John', 'Lilly', 'Linda', 'Nahum', 'Stephen', 'Timothy']\n"
     ]
    }
   ],
   "source": [
    "#we can also sort the list for better readability\n",
    "party_list.sort()\n",
    "print(party_list)"
   ]
  },
  {
   "cell_type": "code",
   "execution_count": 28,
   "metadata": {},
   "outputs": [
    {
     "data": {
      "text/plain": [
       "True"
      ]
     },
     "execution_count": 28,
     "metadata": {},
     "output_type": "execute_result"
    }
   ],
   "source": [
    "#we can check whether a person we want is in the list\n",
    "# 'name'  in party_list will return boolean value example is as follows\n",
    "\"Nahum\" in party_list"
   ]
  },
  {
   "cell_type": "code",
   "execution_count": null,
   "metadata": {},
   "outputs": [],
   "source": []
  }
 ],
 "metadata": {
  "kernelspec": {
   "display_name": "Python 3",
   "language": "python",
   "name": "python3"
  },
  "language_info": {
   "codemirror_mode": {
    "name": "ipython",
    "version": 3
   },
   "file_extension": ".py",
   "mimetype": "text/x-python",
   "name": "python",
   "nbconvert_exporter": "python",
   "pygments_lexer": "ipython3",
   "version": "3.10.5"
  }
 },
 "nbformat": 4,
 "nbformat_minor": 2
}
