{
 "cells": [
  {
   "cell_type": "markdown",
   "metadata": {},
   "source": [
    "this notebook is used to create advanced party management using tuples and dictionaries, based on the course on Day_3.ipynb"
   ]
  },
  {
   "cell_type": "code",
   "execution_count": 1,
   "metadata": {},
   "outputs": [],
   "source": [
    "#create empty dictionary\n",
    "guests = {}\n"
   ]
  },
  {
   "cell_type": "code",
   "execution_count": 2,
   "metadata": {},
   "outputs": [
    {
     "name": "stdout",
     "output_type": "stream",
     "text": [
      "Alice (28, 'alice@gmail.com')\n",
      "Bob (35, 'bob@gmail.com')\n",
      "Charlie (30, 'charlie@gmail.com')\n"
     ]
    }
   ],
   "source": [
    "\n",
    "#add guests to dictionary\n",
    "guests['Alice'] = (28, \"alice@gmail.com\")\n",
    "guests['Bob'] = (35, \"bob@gmail.com\")\n",
    "guests['Charlie'] = (30, \"charlie@gmail.com\")\n",
    "for ky, val in guests.items():\n",
    "    print(ky, val)"
   ]
  },
  {
   "cell_type": "code",
   "execution_count": 3,
   "metadata": {},
   "outputs": [],
   "source": [
    "#updating the guests dictionary\n",
    "guests[\"David\"] = (22, \"david@gmail.com\")\n"
   ]
  },
  {
   "cell_type": "code",
   "execution_count": 4,
   "metadata": {},
   "outputs": [
    {
     "data": {
      "text/plain": [
       "\"Alice, Age:28 is coming to the party! Email:'alice@gmail.com\""
      ]
     },
     "execution_count": 4,
     "metadata": {},
     "output_type": "execute_result"
    }
   ],
   "source": [
    "def checker(guest_name):\n",
    "    for keys in guests:\n",
    "        if keys == guest_name:\n",
    "\n",
    "            return f\"{guest_name}, Age:{guests[guest_name][0]} is coming to the party! Email:'{guests[guest_name][1]}\"\n",
    "        \n",
    "    return f'{guest_name} is not on the guest list'\n",
    "\n",
    "\n",
    "checker(\"Alice\")\n"
   ]
  },
  {
   "cell_type": "code",
   "execution_count": 5,
   "metadata": {},
   "outputs": [
    {
     "data": {
      "text/plain": [
       "'Eve is not on the guest list'"
      ]
     },
     "execution_count": 5,
     "metadata": {},
     "output_type": "execute_result"
    }
   ],
   "source": [
    "checker(\"Eve\")"
   ]
  },
  {
   "cell_type": "code",
   "execution_count": 6,
   "metadata": {},
   "outputs": [
    {
     "name": "stdout",
     "output_type": "stream",
     "text": [
      "Total number of guests: 4\n"
     ]
    }
   ],
   "source": [
    "#guest counter\n",
    "counter = 0\n",
    "for keys in guests:\n",
    "    counter +=1\n",
    "print(f\"Total number of guests: {counter}\")\n"
   ]
  },
  {
   "cell_type": "code",
   "execution_count": 7,
   "metadata": {},
   "outputs": [
    {
     "name": "stdout",
     "output_type": "stream",
     "text": [
      "registration successful\n"
     ]
    }
   ],
   "source": [
    "#extension: user inserting name, age and email\n",
    "def register():\n",
    "    name = input(\"insert your name: \")\n",
    "    for keys in guests:\n",
    "        if name==keys:\n",
    "            return \"name already registered, please insert another name\"\n",
    "    age = int(input(\"insert your age: \"))\n",
    "    mail = input(\"insert your email: \")\n",
    "    guests[name] = (age, mail)\n",
    "    print(\"registration successful\")\n",
    "    return guests\n",
    "guests = register()"
   ]
  },
  {
   "cell_type": "code",
   "execution_count": 8,
   "metadata": {},
   "outputs": [
    {
     "name": "stdout",
     "output_type": "stream",
     "text": [
      "{'Alice': (28, 'alice@gmail.com'), 'Bob': (35, 'bob@gmail.com'), 'Charlie': (30, 'charlie@gmail.com'), 'David': (22, 'david@gmail.com'), 'a': (32, 'a@gmail.com')}\n"
     ]
    }
   ],
   "source": [
    "print(guests)"
   ]
  },
  {
   "cell_type": "code",
   "execution_count": 9,
   "metadata": {},
   "outputs": [
    {
     "name": "stdout",
     "output_type": "stream",
     "text": [
      "[('David', (22, 'david@gmail.com')), ('Alice', (28, 'alice@gmail.com')), ('Charlie', (30, 'charlie@gmail.com')), ('a', (32, 'a@gmail.com')), ('Bob', (35, 'bob@gmail.com'))]\n"
     ]
    }
   ],
   "source": [
    "#sorting by age\n",
    "guests = sorted(guests.items(), key=lambda item:item[1])\n",
    "print(guests)\n",
    "guests = dict(guests)"
   ]
  }
 ],
 "metadata": {
  "kernelspec": {
   "display_name": "Python 3",
   "language": "python",
   "name": "python3"
  },
  "language_info": {
   "codemirror_mode": {
    "name": "ipython",
    "version": 3
   },
   "file_extension": ".py",
   "mimetype": "text/x-python",
   "name": "python",
   "nbconvert_exporter": "python",
   "pygments_lexer": "ipython3",
   "version": "3.10.5"
  }
 },
 "nbformat": 4,
 "nbformat_minor": 2
}
