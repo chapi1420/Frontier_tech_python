{
 "cells": [
  {
   "cell_type": "markdown",
   "metadata": {},
   "source": [
    "This code will check if the inserted value in the variable ia s palindrome"
   ]
  },
  {
   "cell_type": "markdown",
   "metadata": {},
   "source": [
    "the following is a case sensitive form\n"
   ]
  },
  {
   "cell_type": "code",
   "execution_count": 1,
   "metadata": {},
   "outputs": [
    {
     "name": "stdout",
     "output_type": "stream",
     "text": [
      "palindrome\n"
     ]
    }
   ],
   "source": [
    "var = input(\"insert  a value to chech whether palindrome: \")\n",
    "for char in var:\n",
    "    if char != var[-1]:\n",
    "        print(\"not a palindrome\")\n",
    "        break\n",
    "    else:\n",
    "        print(\"palindrome\")\n",
    "        break\n"
   ]
  },
  {
   "cell_type": "markdown",
   "metadata": {},
   "source": [
    "below is case insensitive and alphanumeric foccused functions to check whether palindrome"
   ]
  },
  {
   "cell_type": "code",
   "execution_count": 5,
   "metadata": {},
   "outputs": [
    {
     "data": {
      "text/plain": [
       "True"
      ]
     },
     "execution_count": 5,
     "metadata": {},
     "output_type": "execute_result"
    }
   ],
   "source": [
    "\n",
    "def is_palindrme_while():\n",
    "    var2 = input(\"insert  a value to chech whether palindrome: \")\n",
    "    var2 = var2.lower()\n",
    "    listed_var2 = [char for char in var2 if char.isalnum()]\n",
    "    length = len(listed_var2) / 2\n",
    "    while length > 0:\n",
    "        if listed_var2[0] != listed_var2[-1]:\n",
    "            return False\n",
    "        length -= 1\n",
    "        listed_var2 = listed_var2[1:-1]\n",
    "        if length == 0:\n",
    "            return True\n",
    "is_palindrme_while()"
   ]
  },
  {
   "cell_type": "markdown",
   "metadata": {},
   "source": [
    "usinf for loop to check if palindrome"
   ]
  },
  {
   "cell_type": "code",
   "execution_count": 11,
   "metadata": {},
   "outputs": [
    {
     "data": {
      "text/plain": [
       "True"
      ]
     },
     "execution_count": 11,
     "metadata": {},
     "output_type": "execute_result"
    }
   ],
   "source": [
    "def if_palindrome_for():\n",
    "    var2 = input(\"insert  a value to chech whether palindrome: \")\n",
    "    var2 = var2.lower()\n",
    "    listed_var2 = [char for char in var2 if char.isalnum()]\n",
    "    for char in listed_var2:\n",
    "        if listed_var2[0] != listed_var2[-1]:\n",
    "            return False\n",
    "        listed_var2 = listed_var2[1:-1]\n",
    "        if len(listed_var2) == 0:\n",
    "            return True\n",
    "\n",
    "if_palindrome_for()\n"
   ]
  },
  {
   "cell_type": "code",
   "execution_count": null,
   "metadata": {},
   "outputs": [],
   "source": []
  }
 ],
 "metadata": {
  "kernelspec": {
   "display_name": "Python 3",
   "language": "python",
   "name": "python3"
  },
  "language_info": {
   "codemirror_mode": {
    "name": "ipython",
    "version": 3
   },
   "file_extension": ".py",
   "mimetype": "text/x-python",
   "name": "python",
   "nbconvert_exporter": "python",
   "pygments_lexer": "ipython3",
   "version": "3.10.5"
  }
 },
 "nbformat": 4,
 "nbformat_minor": 2
}
