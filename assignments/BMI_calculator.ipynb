{
 "cells": [
  {
   "cell_type": "markdown",
   "metadata": {
    "vscode": {
     "languageId": "plaintext"
    }
   },
   "source": [
    "this code will be used to calculate BMI of an individual and give inference based on the result"
   ]
  },
  {
   "cell_type": "code",
   "execution_count": 2,
   "metadata": {},
   "outputs": [
    {
     "name": "stdout",
     "output_type": "stream",
     "text": [
      "your BMI is:  23.306680053067517\n",
      "you have a normal weight\n"
     ]
    }
   ],
   "source": [
    "weight = input(\"insert your wight in KG: \")\n",
    "height = input(\"insert your height in meters: \")\n",
    "BMI = (float(weight) / (float(height) * float(height)))\n",
    "print(\"your BMI is: \",  BMI)\n",
    "if BMI > 25:\n",
    "    print(\"you are overweight\")\n",
    "elif BMI < 18.5:\n",
    "    print(\"you are underweight\")\n",
    "else: print(\"you have a normal weight\")"
   ]
  },
  {
   "cell_type": "code",
   "execution_count": null,
   "metadata": {},
   "outputs": [],
   "source": []
  }
 ],
 "metadata": {
  "kernelspec": {
   "display_name": "Python 3",
   "language": "python",
   "name": "python3"
  },
  "language_info": {
   "codemirror_mode": {
    "name": "ipython",
    "version": 3
   },
   "file_extension": ".py",
   "mimetype": "text/x-python",
   "name": "python",
   "nbconvert_exporter": "python",
   "pygments_lexer": "ipython3",
   "version": "3.10.5"
  }
 },
 "nbformat": 4,
 "nbformat_minor": 2
}
